{
 "cells": [
  {
   "cell_type": "code",
   "execution_count": 1,
   "id": "821b8a76-fe8b-4d69-b80e-bc4a2cc23666",
   "metadata": {
    "scrolled": true
   },
   "outputs": [
    {
     "name": "stderr",
     "output_type": "stream",
     "text": [
      "2024-12-21 04:58:38.721749: E external/local_xla/xla/stream_executor/cuda/cuda_fft.cc:477] Unable to register cuFFT factory: Attempting to register factory for plugin cuFFT when one has already been registered\n",
      "WARNING: All log messages before absl::InitializeLog() is called are written to STDERR\n",
      "E0000 00:00:1734757118.766482   22143 cuda_dnn.cc:8310] Unable to register cuDNN factory: Attempting to register factory for plugin cuDNN when one has already been registered\n",
      "E0000 00:00:1734757118.778496   22143 cuda_blas.cc:1418] Unable to register cuBLAS factory: Attempting to register factory for plugin cuBLAS when one has already been registered\n",
      "2024-12-21 04:58:38.804094: I tensorflow/core/platform/cpu_feature_guard.cc:210] This TensorFlow binary is optimized to use available CPU instructions in performance-critical operations.\n",
      "To enable the following instructions: AVX2 AVX512F FMA, in other operations, rebuild TensorFlow with the appropriate compiler flags.\n"
     ]
    }
   ],
   "source": [
    "import matplotlib.pyplot as plt\n",
    "import numpy as np\n",
    "import pandas as pd\n",
    "import scipy\n",
    "import sklearn\n",
    "import tensorflow\n",
    "import keras\n",
    "import csv\n",
    "import matplotlib.pyplot as plt\n"
   ]
  },
  {
   "cell_type": "code",
   "execution_count": 2,
   "id": "9a8fdcee-e94c-46df-9e0b-fb85a0e8e27c",
   "metadata": {},
   "outputs": [],
   "source": [
    "def calculateSilhoutteScore(df_scaled, metrics, column):\n",
    "    from sklearn.metrics import silhouette_score\n",
    "    silhouette = silhouette_score(df_scaled, metrics[column])\n",
    "    return silhouette\n"
   ]
  },
  {
   "cell_type": "code",
   "execution_count": 3,
   "id": "fc7eddef-f0d2-41ec-bb4e-e31f08cb464c",
   "metadata": {},
   "outputs": [],
   "source": [
    "def DataTypeCorrection(columnList, df):\n",
    "    for column in columnList:\n",
    "        if column == 'TransactionDate':\n",
    "            df[column] = pd.to_datetime(df[column], errors='coerce')\n",
    "        elif column == 'CustomerID' or column == 'Quantity' or column == 'Price' or column == 'DiscountApplied(%)' or column == 'TotalAmount':\n",
    "            df[column] = pd.to_numeric(df[column], errors='coerce')\n",
    "\n",
    "    return df\n"
   ]
  },
  {
   "cell_type": "code",
   "execution_count": 4,
   "id": "ac5b884f-97c5-4633-b1ea-160790d4a9a1",
   "metadata": {},
   "outputs": [],
   "source": [
    "def process_and_concat(inputDf, dbDf):\n",
    "    columns_to_remove = [\"username\", \"itemName\", \"storeName\"]\n",
    "    inputDf = inputDf.drop(columns=columns_to_remove, errors='ignore')\n",
    "    column_mapping = {\n",
    "        \"customerID\": \"CustomerID\",\n",
    "        \"purchaseId\": \"ProductID\",\n",
    "        \"quantity\": \"Quantity\",\n",
    "        \"price\": \"Price\",\n",
    "        \"transactionDate\": \"TransactionDate\",\n",
    "        \"paymentMethod\": \"PaymentMethod\",\n",
    "        \"storeLocation\": \"StoreLocation\",\n",
    "        \"category\": \"ProductCategory\",\n",
    "        \"discount\": \"DiscountApplied(%)\",\n",
    "        \"totalAmount\": \"TotalAmount\"\n",
    "    }\n",
    "\n",
    "    inputDf = inputDf.rename(columns=column_mapping)\n",
    "    inputDf = inputDf[dbDf.columns]\n",
    "\n",
    "    concatenated_df = pd.concat([dbDf, DataTypeCorrection(list(inputDf.columns), inputDf)], ignore_index=True)\n",
    "    return concatenated_df"
   ]
  },
  {
   "cell_type": "code",
   "execution_count": 5,
   "id": "fea9f27d-ced6-4ad3-aa55-49c118c9fe8f",
   "metadata": {},
   "outputs": [],
   "source": [
    "db_csv_file_path = 's3://ibudget-purchases-bucket/transaction-data/Retail_Transaction_df.csv'\n",
    "##db_df = pd.read_csv(db_csv_file_path)"
   ]
  },
  {
   "cell_type": "code",
   "execution_count": 6,
   "id": "0b556242-7570-4e23-9aea-df7153a7859c",
   "metadata": {},
   "outputs": [],
   "source": [
    "user_csv_file_path = 's3://ibudget-purchases-bucket/unprocessedInputs/To_Be_Processed.csv'#enter path to csv file of customer data from website\n",
    "#user_df = pd.read_csv(user_csv_file_path)"
   ]
  },
  {
   "cell_type": "code",
   "execution_count": null,
   "id": "53d242fc-006b-46aa-9904-899922101932",
   "metadata": {},
   "outputs": [],
   "source": []
  },
  {
   "cell_type": "code",
   "execution_count": 7,
   "id": "9258b113-8963-40de-a442-ddcdefe79726",
   "metadata": {},
   "outputs": [],
   "source": [
    "#db_csv_file_path = 'Retail_Transaction_df.csv'\n",
    "#input_path = 'results.csv'\n",
    "df = process_and_concat(pd.read_csv(user_csv_file_path), pd.read_csv(db_csv_file_path))"
   ]
  },
  {
   "cell_type": "code",
   "execution_count": null,
   "id": "4ff47b23-55fa-4af5-80df-40a4384609fc",
   "metadata": {},
   "outputs": [],
   "source": []
  },
  {
   "cell_type": "code",
   "execution_count": 8,
   "id": "8bba23c0-7fb5-4755-ba34-b3c66c1f963f",
   "metadata": {},
   "outputs": [],
   "source": [
    "#We want to output the concat result back to Retail_Transaction_df\n",
    "#to update the db and can so that it can be use again for model building in future runs\n",
    "df.to_csv(db_csv_file_path, index=False, mode='w')"
   ]
  },
  {
   "cell_type": "code",
   "execution_count": null,
   "id": "3b56a296-85cd-48ff-9432-7e1727cc55c9",
   "metadata": {},
   "outputs": [],
   "source": []
  },
  {
   "cell_type": "code",
   "execution_count": 9,
   "id": "93223ee1-1757-4e3e-bf8e-cff8cc09c52e",
   "metadata": {},
   "outputs": [],
   "source": [
    "num_attribs = [\"Quantity\", \"Price\", \"DiscountApplied(%)\", \"TotalAmount\"]\n",
    "from scipy.stats import zscore\n",
    "\n",
    "z_scores = np.abs(zscore(df[num_attribs]))\n",
    "outliers = (z_scores > 3).any(axis=1)\n",
    "\n",
    "df = df[~outliers]"
   ]
  },
  {
   "cell_type": "code",
   "execution_count": 10,
   "id": "2112aa20-e309-4f8c-bf4a-02b03964aab0",
   "metadata": {},
   "outputs": [],
   "source": [
    "customer_metrics = df.groupby(\"CustomerID\").agg({\n",
    "    \"Quantity\": \"sum\",\n",
    "    \"Price\": \"mean\",\n",
    "    \"DiscountApplied(%)\": \"mean\",\n",
    "    \"TotalAmount\": [\"sum\", \"mean\", \"count\"],  \n",
    "}).reset_index()\n",
    "\n",
    "customer_metrics.columns = [\n",
    "    \"CustomerID\", \"TotalQuantity\", \"AvgPrice\", \"AvgDiscount\", \n",
    "    \"TotalSpending\", \"AvgSpending\", \"TransactionCount\"\n",
    "]\n"
   ]
  },
  {
   "cell_type": "code",
   "execution_count": 11,
   "id": "c4074fad-4862-4205-94d1-46c014b0831b",
   "metadata": {},
   "outputs": [],
   "source": [
    "from sklearn.pipeline import Pipeline\n",
    "from sklearn.impute import SimpleImputer\n",
    "from sklearn.preprocessing import StandardScaler\n",
    "from sklearn.preprocessing import FunctionTransformer\n",
    "from sklearn.preprocessing import OneHotEncoder\n",
    "from sklearn.compose import ColumnTransformer\n",
    "\n",
    "num_attribs = [\"TotalQuantity\", \"AvgPrice\", \"AvgDiscount\", \"TotalSpending\", \"AvgSpending\", \"TransactionCount\"]\n",
    "#cat_attribs = [\"AvgPaymentMethod\"]\n",
    "\n",
    "\n",
    "# Log-transform pipeline for numeric data\n",
    "log_transformer = Pipeline([\n",
    "    (\"log\", FunctionTransformer(func=np.log1p, validate=True)),\n",
    "    (\"scaler\", StandardScaler())\n",
    "])\n",
    "\n",
    "num_pipeline = Pipeline([\n",
    "    (\"imputer\", SimpleImputer(add_indicator=True, strategy=\"median\")),\n",
    "    (\"log_transform\", log_transformer)\n",
    "])\n",
    "\n",
    "cat_pipeline = Pipeline([\n",
    "    (\"imputer\", SimpleImputer(strategy=\"most_frequent\")),\n",
    "    (\"cat_encoder\", OneHotEncoder(sparse_output=False))\n",
    "])\n",
    "\n",
    "preprocess_pipeline = ColumnTransformer([\n",
    "    (\"num\", num_pipeline, num_attribs),\n",
    "    #(\"cat\", cat_pipeline, cat_attribs)\n",
    "])\n"
   ]
  },
  {
   "cell_type": "code",
   "execution_count": 12,
   "id": "27c47408-9ad6-4b87-a899-1bbca380eb9b",
   "metadata": {},
   "outputs": [],
   "source": [
    "df_scaled = preprocess_pipeline.fit_transform(customer_metrics[num_attribs])\n"
   ]
  },
  {
   "cell_type": "code",
   "execution_count": null,
   "id": "be65cbf9-90f7-48cd-bce8-ab91ec6b0c87",
   "metadata": {},
   "outputs": [],
   "source": []
  },
  {
   "cell_type": "code",
   "execution_count": 13,
   "id": "35a8e0b7-7824-4ecd-8997-6bf5513d60a5",
   "metadata": {},
   "outputs": [],
   "source": [
    "from sklearn.cluster import KMeans\n",
    "import matplotlib.pyplot as plt\n",
    "\n",
    "kmeans = KMeans(n_clusters=3, random_state=42)\n",
    "customer_metrics[\"cluster\"] = kmeans.fit_predict(df_scaled)\n"
   ]
  },
  {
   "cell_type": "code",
   "execution_count": 14,
   "id": "7acb2011-10ac-46f7-bca1-9b81da8eecd0",
   "metadata": {},
   "outputs": [],
   "source": [
    "#silhouette score with no outliers removed: 0.24330643841291696\n",
    "#silhouette score after outliers are removed: 0.38152009979483226"
   ]
  },
  {
   "cell_type": "code",
   "execution_count": 15,
   "id": "d25ab78d-9ada-4a7c-99c6-b4d1297eb4f1",
   "metadata": {},
   "outputs": [],
   "source": [
    "def GenerateAOV(cluster_df):\n",
    "    spender_aov = cluster_df.groupby('CustomerID')['TotalSpending'].mean().reset_index()\n",
    "    spender_aov.rename(columns={'TotalSpending': 'average_order_value'}, inplace=True)\n",
    "    spending_users = customer_metrics.merge(spender_aov, on='CustomerID', how='left')\n",
    "    spending_users.dropna()\n",
    "    return spending_users\n"
   ]
  },
  {
   "cell_type": "code",
   "execution_count": null,
   "id": "4fc71ab7-1498-4b7f-b7a1-8f020ae7f8d5",
   "metadata": {},
   "outputs": [],
   "source": []
  },
  {
   "cell_type": "code",
   "execution_count": 16,
   "id": "a2b5ac4a-c717-4e11-bd9e-5e6ff0f081b2",
   "metadata": {},
   "outputs": [],
   "source": [
    "low_spending_users = customer_metrics[customer_metrics['cluster'] == 0]\n",
    "low_spending_users_df = GenerateAOV(low_spending_users)"
   ]
  },
  {
   "cell_type": "code",
   "execution_count": 17,
   "id": "10e33fda-7d79-44a1-b364-6989ca8e2136",
   "metadata": {},
   "outputs": [],
   "source": [
    "medium_spending_users = customer_metrics[customer_metrics['cluster'] == 1]\n",
    "medium_spending_users_df = GenerateAOV(medium_spending_users)"
   ]
  },
  {
   "cell_type": "code",
   "execution_count": 18,
   "id": "fcbfd0b3-c607-4796-9831-8ae9e2b2c346",
   "metadata": {},
   "outputs": [],
   "source": [
    "high_spending_users = customer_metrics[customer_metrics['cluster'] == 2]\n",
    "high_spending_users_df = GenerateAOV(high_spending_users)"
   ]
  },
  {
   "cell_type": "code",
   "execution_count": 19,
   "id": "ea3c4c02-7d4f-4ea8-a6c1-6c6446918acb",
   "metadata": {},
   "outputs": [],
   "source": [
    "aov_df = pd.concat([low_spending_users_df, medium_spending_users_df, high_spending_users_df], ignore_index=True)\n",
    "aov_df = aov_df.dropna()"
   ]
  },
  {
   "cell_type": "code",
   "execution_count": 20,
   "id": "d20c0e30-bb25-40a5-a072-deb5220fee8f",
   "metadata": {},
   "outputs": [],
   "source": [
    "def generate_budgeting_plan(user):\n",
    "    plan = {\n",
    "        'spending_limit': 0,\n",
    "        'saving_goal': 0,\n",
    "        'custom_tips': []\n",
    "    }\n",
    "    if user['cluster'] == 2:\n",
    "        plan['spender_type'] = 'High Spender'\n",
    "        plan['spending_limit'] = user['average_order_value'] * 0.8\n",
    "        plan['saving_goal'] = user['average_order_value'] * 0.2\n",
    "        plan['custom_tips'] = [\n",
    "            \"Set aside a portion of your income for an emergency fund.\",\n",
    "            \"Track all expenses to identify areas for potential savings.\",\n",
    "            \"Prioritize needs over wants in your monthly budget.\"\n",
    "        ]\n",
    "    elif user['cluster'] == 1:\n",
    "        plan['spender_type'] = 'Medium Spender'\n",
    "        plan['spending_limit'] = user['AvgSpending'] * 0.9\n",
    "        plan['saving_goal'] = user['AvgSpending'] * 0.1\n",
    "        plan['custom_tips'] = [\n",
    "            \"Plan your purchases in advance to avoid overspending.\",\n",
    "            \"Set a weekly spending cap to manage expenses better.\",\n",
    "            \"Consider automating your savings to grow your wealth passively.\"\n",
    "        ]\n",
    "    elif user['cluster'] == 0:\n",
    "        plan['spender_type'] = 'Low Spender'\n",
    "        plan['spending_limit'] = user['AvgSpending']\n",
    "        plan['saving_goal'] = user['AvgSpending'] * 0.05\n",
    "        plan['custom_tips'] = [\n",
    "            \"Look for opportunities to increase income or invest.\",\n",
    "            \"Avoid over-saving at the cost of essential needs.\",\n",
    "            \"Explore budget-friendly options for discretionary spending.\"\n",
    "        ]\n",
    "    plan['luxury_spending_percentage'] = user['AvgPrice'] / user['TotalSpending'] * 100\n",
    "    plan['essential_spending_percentage'] = 100 - plan['luxury_spending_percentage']\n",
    "    plan['estimated_monthly_spending'] = user['TotalSpending'] / user['TransactionCount']\n",
    "    \n",
    "    return plan"
   ]
  },
  {
   "cell_type": "code",
   "execution_count": 21,
   "id": "036c42cc-6f3d-448b-91b5-ec333e906635",
   "metadata": {},
   "outputs": [],
   "source": [
    "aov_df['budgeting_plan'] = aov_df.apply(generate_budgeting_plan, axis=1)\n"
   ]
  },
  {
   "cell_type": "code",
   "execution_count": 22,
   "id": "0b8243ca-2f2d-474a-be32-e62442302144",
   "metadata": {},
   "outputs": [
    {
     "name": "stdout",
     "output_type": "stream",
     "text": [
      "Data successfully saved to s3://ibudget-purchases-bucket/ml-output-data/Retail_Transaction_ML.csv\n"
     ]
    }
   ],
   "source": [
    "model_output_csv_file_path = 's3://ibudget-purchases-bucket/ml-output-data/Retail_Transaction_ML.csv'\n",
    "try: \n",
    "    aov_df.to_csv(model_output_csv_file_path, index=False, mode='w')\n",
    "    print(f\"Data successfully saved to {model_output_csv_file_path}\")\n",
    "except Exception as e:\n",
    "    print(f\"failed to save to s3: {e}\")\n",
    "    raise RuntimeError(\"Stopping execution due ot error. \") from e"
   ]
  },
  {
   "cell_type": "code",
   "execution_count": 23,
   "id": "66a76bc4",
   "metadata": {},
   "outputs": [
    {
     "name": "stdout",
     "output_type": "stream",
     "text": [
      "Deleted files: {'ResponseMetadata': {'RequestId': 'BMS6CH5R4YK4NSR6', 'HostId': '/mSmP8udZ4f3cr+7hrG2MaLbuF5vZJaaouKFO11fhL6R+0G0ol7usF2+K9gI4RgesFECb5L3z5c=', 'HTTPStatusCode': 200, 'HTTPHeaders': {'x-amz-id-2': '/mSmP8udZ4f3cr+7hrG2MaLbuF5vZJaaouKFO11fhL6R+0G0ol7usF2+K9gI4RgesFECb5L3z5c=', 'x-amz-request-id': 'BMS6CH5R4YK4NSR6', 'date': 'Sat, 21 Dec 2024 04:58:51 GMT', 'connection': 'close', 'content-type': 'application/xml', 'transfer-encoding': 'chunked', 'server': 'AmazonS3'}, 'RetryAttempts': 0}, 'Deleted': [{'Key': 'unprocessedInputs/To_Be_Processed.csv'}]}\n"
     ]
    }
   ],
   "source": [
    "import boto3\n",
    "bucket_name = \"ibudget-purchases-bucket\"\n",
    "prefix = \"unprocessedInputs/\" \n",
    "\n",
    "s3 = boto3.client('s3')\n",
    "\n",
    "try:\n",
    "    response = s3.list_objects_v2(Bucket=bucket_name, Prefix=prefix)\n",
    "    if 'Contents' in response:\n",
    "        objects_to_delete = [{'Key': obj['Key']} for obj in response['Contents']]\n",
    "        delete_response = s3.delete_objects(\n",
    "            Bucket=bucket_name,\n",
    "            Delete={'Objects': objects_to_delete}\n",
    "        )\n",
    "        print(\"Deleted files:\", delete_response)\n",
    "    else:\n",
    "        print(\"No files found in the specified S3 path.\")\n",
    "\n",
    "except Exception as e:\n",
    "    print(f\"Error deleting files: {e}\")\n"
   ]
  },
  {
   "cell_type": "code",
   "execution_count": null,
   "id": "d82e1aa8",
   "metadata": {},
   "outputs": [],
   "source": []
  }
 ],
 "metadata": {
  "kernelspec": {
   "display_name": "conda_python3",
   "language": "python",
   "name": "conda_python3"
  },
  "language_info": {
   "codemirror_mode": {
    "name": "ipython",
    "version": 3
   },
   "file_extension": ".py",
   "mimetype": "text/x-python",
   "name": "python",
   "nbconvert_exporter": "python",
   "pygments_lexer": "ipython3",
   "version": "3.10.15"
  }
 },
 "nbformat": 4,
 "nbformat_minor": 5
}
